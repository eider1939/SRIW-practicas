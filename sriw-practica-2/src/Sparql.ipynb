{
 "cells": [
  {
   "cell_type": "markdown",
   "metadata": {},
   "source": [
    "## Configuración"
   ]
  },
  {
   "cell_type": "markdown",
   "metadata": {},
   "source": [
    "Instalación de librerias RDFLib y SPARQLWrapper"
   ]
  },
  {
   "cell_type": "code",
   "execution_count": 22,
   "metadata": {},
   "outputs": [
    {
     "name": "stdout",
     "output_type": "stream",
     "text": [
      "Requirement already satisfied: sparqlwrapper in c:\\python39\\lib\\site-packages (1.8.5)Note: you may need to restart the kernel to use updated packages.\n"
     ]
    },
    {
     "name": "stderr",
     "output_type": "stream",
     "text": [
      "WARNING: Ignoring invalid distribution -ip (c:\\python39\\lib\\site-packages)\n",
      "WARNING: Ignoring invalid distribution - (c:\\python39\\lib\\site-packages)\n",
      "WARNING: Ignoring invalid distribution -ip (c:\\python39\\lib\\site-packages)"
     ]
    },
    {
     "name": "stdout",
     "output_type": "stream",
     "text": [
      "\n",
      "Requirement already satisfied: rdflib>=4.0 in c:\\python39\\lib\\site-packages (from sparqlwrapper) (6.0.2)\n",
      "Requirement already satisfied: setuptools in c:\\python39\\lib\\site-packages (from rdflib>=4.0->sparqlwrapper) (59.6.0)\n",
      "Requirement already satisfied: isodate in c:\\python39\\lib\\site-packages (from rdflib>=4.0->sparqlwrapper) (0.6.1)\n",
      "Requirement already satisfied: pyparsing in c:\\python39\\lib\\site-packages (from rdflib>=4.0->sparqlwrapper) (3.0.6)\n",
      "Requirement already satisfied: six in c:\\users\\srend\\appdata\\roaming\\python\\python39\\site-packages (from isodate->rdflib>=4.0->sparqlwrapper) (1.16.0)\n"
     ]
    },
    {
     "name": "stderr",
     "output_type": "stream",
     "text": [
      "\n",
      "WARNING: Ignoring invalid distribution - (c:\\python39\\lib\\site-packages)\n",
      "WARNING: Ignoring invalid distribution -ip (c:\\python39\\lib\\site-packages)\n",
      "WARNING: Ignoring invalid distribution - (c:\\python39\\lib\\site-packages)\n",
      "WARNING: Ignoring invalid distribution -ip (c:\\python39\\lib\\site-packages)\n",
      "WARNING: Ignoring invalid distribution - (c:\\python39\\lib\\site-packages)\n",
      "WARNING: Ignoring invalid distribution -ip (c:\\python39\\lib\\site-packages)\n",
      "WARNING: Ignoring invalid distribution - (c:\\python39\\lib\\site-packages)\n"
     ]
    },
    {
     "name": "stdout",
     "output_type": "stream",
     "text": [
      "Requirement already satisfied: rdflib in c:\\python39\\lib\\site-packages (6.0.2)Note: you may need to restart the kernel to use updated packages.\n"
     ]
    },
    {
     "name": "stderr",
     "output_type": "stream",
     "text": [
      "WARNING: Ignoring invalid distribution -ip (c:\\python39\\lib\\site-packages)\n",
      "WARNING: Ignoring invalid distribution - (c:\\python39\\lib\\site-packages)\n",
      "WARNING: Ignoring invalid distribution -ip (c:\\python39\\lib\\site-packages)\n",
      "WARNING: Ignoring invalid distribution - (c:\\python39\\lib\\site-packages)\n",
      "WARNING: Ignoring invalid distribution -ip (c:\\python39\\lib\\site-packages)\n",
      "WARNING: Ignoring invalid distribution - (c:\\python39\\lib\\site-packages)\n",
      "WARNING: Ignoring invalid distribution -ip (c:\\python39\\lib\\site-packages)\n",
      "WARNING: Ignoring invalid distribution - (c:\\python39\\lib\\site-packages)\n",
      "WARNING: Ignoring invalid distribution -ip (c:\\python39\\lib\\site-packages)\n",
      "WARNING: Ignoring invalid distribution - (c:\\python39\\lib\\site-packages)\n"
     ]
    },
    {
     "name": "stdout",
     "output_type": "stream",
     "text": [
      "\n",
      "Requirement already satisfied: setuptools in c:\\python39\\lib\\site-packages (from rdflib) (59.6.0)\n",
      "Requirement already satisfied: pyparsing in c:\\python39\\lib\\site-packages (from rdflib) (3.0.6)\n",
      "Requirement already satisfied: isodate in c:\\python39\\lib\\site-packages (from rdflib) (0.6.1)\n",
      "Requirement already satisfied: six in c:\\users\\srend\\appdata\\roaming\\python\\python39\\site-packages (from isodate->rdflib) (1.16.0)\n",
      "Note: you may need to restart the kernel to use updated packages.\n"
     ]
    },
    {
     "name": "stderr",
     "output_type": "stream",
     "text": [
      "WARNING: Ignoring invalid distribution -ip (c:\\python39\\lib\\site-packages)\n",
      "WARNING: Ignoring invalid distribution - (c:\\python39\\lib\\site-packages)\n",
      "WARNING: Ignoring invalid distribution -ip (c:\\python39\\lib\\site-packages)\n",
      "WARNING: Ignoring invalid distribution - (c:\\python39\\lib\\site-packages)\n",
      "ERROR: Could not find a version that satisfies the requirement urllib.parse (from versions: none)\n",
      "ERROR: No matching distribution found for urllib.parse\n",
      "WARNING: Ignoring invalid distribution -ip (c:\\python39\\lib\\site-packages)\n",
      "WARNING: Ignoring invalid distribution - (c:\\python39\\lib\\site-packages)\n",
      "WARNING: Ignoring invalid distribution -ip (c:\\python39\\lib\\site-packages)\n",
      "WARNING: Ignoring invalid distribution - (c:\\python39\\lib\\site-packages)\n"
     ]
    }
   ],
   "source": [
    "%pip install sparqlwrapper\n",
    "%pip install rdflib\n",
    "%pip install urllib.parse"
   ]
  },
  {
   "cell_type": "markdown",
   "metadata": {},
   "source": [
    "Cargamos el grafo inicial"
   ]
  },
  {
   "cell_type": "code",
   "execution_count": 3,
   "metadata": {},
   "outputs": [],
   "source": [
    "from rdflib import Graph, Namespace\n",
    "\n",
    "g = Graph()\n",
    "\n",
    "g.parse(\"data/Practica2_Computer_Qualification.owl\", format=\"ttl\")\n",
    "n = Namespace('http://www.computerqualification.com/')"
   ]
  },
  {
   "cell_type": "markdown",
   "metadata": {},
   "source": [
    "Registramos los namespaces de WikiData y DBPedia."
   ]
  },
  {
   "cell_type": "code",
   "execution_count": 4,
   "metadata": {},
   "outputs": [],
   "source": [
    "from rdflib import RDFS, XSD\n",
    "\n",
    "g.bind(\"rdfs\", RDFS)\n",
    "g.bind(\"xsd\", XSD)\n",
    "\n",
    "g.bind(\"wdt\", \"http://www.wikidata.org/prop/direct/\")\n",
    "g.bind(\"wd\", \"http://www.wikidata.org/entity/\")\n",
    "g.bind(\"wikibase\", \"http://wikiba.se/ontology#\")\n",
    "g.bind(\"bd\", \"http://www.bigdata.com/rdf#\")\n",
    "\n",
    "g.bind(\"dbo\", \"http://dbpedia.org/ontology/\")\n",
    "g.bind(\"dbr\", \"http://dbpedia.org/resource/\")\n",
    "g.bind(\"dbp\", \"http://dbpedia.org/property/\")\n",
    "g.bind(\"dbd\", \"http://dbpedia.org/datatype/\")\n"
   ]
  },
  {
   "cell_type": "markdown",
   "metadata": {},
   "source": [
    "## Punto 1\n",
    "\n",
    "Implementar la ontología y sus instancias en Virtuoso implementando suficientes individuos para realizar las consultas a implementar. Configurar LodView para navegar con virtuoso. Este punto deberá el virtuoso estar instalado en un servidor web real para realizar los otros puntos de forma remota. (valor 1.0)"
   ]
  },
  {
   "cell_type": "markdown",
   "metadata": {},
   "source": [
    "## Punto 2\n",
    "Haciendo uso de la librería SPARQLWrapper y extendiendo la ontología desarrollada en el numeral anterior, implementar 4 consultas que integren en cada consulta información de la base de datos de virtuoso implementada en la práctica y las bases de datos DBPedia y wikidata. En las 4 consultas deberán hacer uso de los siguientes elementos de `SPARQL: ORDER BY, FILTER, UNION y OPTIONAL`. (Valor 2.0)"
   ]
  },
  {
   "cell_type": "markdown",
   "metadata": {},
   "source": [
    "### Consulta 1\n",
    "\n",
    "Consulta que trae los procesadores de WikiData (definidos como CPU - Q5300)"
   ]
  },
  {
   "cell_type": "code",
   "execution_count": 5,
   "metadata": {},
   "outputs": [
    {
     "name": "stdout",
     "output_type": "stream",
     "text": [
      "Item: http://www.wikidata.org/entity/Q3435064, Label: microSPARC, Freq: 40, Cores: 1\n",
      "Item: http://www.wikidata.org/entity/Q85219004, Label: AMD Ryzen Threadripper 3960X, Freq: 4.5, Cores: 24\n",
      "Item: http://www.wikidata.org/entity/Q28739510, Label: Core i7-6700, Freq: 4, Cores: 4\n",
      "Item: http://www.wikidata.org/entity/Q85219004, Label: AMD Ryzen Threadripper 3960X, Freq: 3.8, Cores: 24\n",
      "Item: http://www.wikidata.org/entity/Q28973026, Label: Core i7-7700T, Freq: 3.8, Cores: 4\n",
      "Item: http://www.wikidata.org/entity/Q83192447, Label: Intel Xeon 6152, Freq: 3.7, Cores: 22\n",
      "Item: http://www.wikidata.org/entity/Q108538088, Label: Intel Core i5-6440HQ, Freq: 3.5, Cores: 4\n",
      "Item: http://www.wikidata.org/entity/Q98614836, Label: Intel Core i5 8250U, Freq: 3.4, Cores: 4\n",
      "Item: http://www.wikidata.org/entity/Q28739510, Label: Core i7-6700, Freq: 3.4, Cores: 4\n",
      "Item: http://www.wikidata.org/entity/Q98611825, Label: Intel Core i5-7200U, Freq: 3.1, Cores: 2\n",
      "Item: http://www.wikidata.org/entity/Q83191886, Label: Intel Xeon E5-2660, Freq: 3, Cores: 8\n",
      "Item: http://www.wikidata.org/entity/Q28973026, Label: Core i7-7700T, Freq: 2.9, Cores: 4\n",
      "Item: http://www.wikidata.org/entity/Q108538088, Label: Intel Core i5-6440HQ, Freq: 2.6, Cores: 4\n",
      "Item: http://www.wikidata.org/entity/Q98611825, Label: Intel Core i5-7200U, Freq: 2.5, Cores: 2\n",
      "Item: http://www.wikidata.org/entity/Q83191886, Label: Intel Xeon E5-2660, Freq: 2.2, Cores: 8\n",
      "Item: http://www.wikidata.org/entity/Q83192447, Label: Intel Xeon 6152, Freq: 2.1, Cores: 22\n",
      "Item: http://www.wikidata.org/entity/Q98614836, Label: Intel Core i5 8250U, Freq: 1.6, Cores: 4\n"
     ]
    }
   ],
   "source": [
    "q1 = \"\"\"\n",
    "SELECT ?item ?itemLabel ?cores ?freq\n",
    "{\n",
    "    SERVICE <https://query.wikidata.org/sparql> {\n",
    "        ?item wdt:P31 wd:Q5300.\n",
    "        ?item wdt:P1141 ?cores.\n",
    "        ?item wdt:P2149 ?freq.\n",
    "        ?item rdfs:label ?itemLabel\n",
    "        FILTER(LANG(?itemLabel) = 'en')\n",
    "    }\n",
    "} ORDER BY DESC(?freq)\n",
    "\"\"\"\n",
    "\n",
    "res1 = g.query(q1)\n",
    "\n",
    "for row in res1:\n",
    "    print(f\"Item: {row.item}, Label: {row.itemLabel}, Freq: {row.freq}, Cores: {row.cores}\")"
   ]
  },
  {
   "cell_type": "markdown",
   "metadata": {},
   "source": [
    "### Consulta 2\n",
    "\n",
    "Consulta que trae los módulos de memoria RAM desde WikiData."
   ]
  },
  {
   "cell_type": "code",
   "execution_count": 6,
   "metadata": {},
   "outputs": [
    {
     "name": "stdout",
     "output_type": "stream",
     "text": [
      "Item: http://www.wikidata.org/entity/Q3011238, Label: DIMM board\n",
      "Item: http://www.wikidata.org/entity/Q7268276, Label: Quad Data Rate SRAM\n",
      "Item: http://www.wikidata.org/entity/Q7268276, Label: QDR SDRAM\n"
     ]
    }
   ],
   "source": [
    "q2 = \"\"\"\n",
    "SELECT ?item ?itemLabel\n",
    "{\n",
    "    SERVICE <https://query.wikidata.org/sparql> {\n",
    "        ?item wdt:P31 wd:Q5295.\n",
    "        ?item rdfs:label ?itemLabel.\n",
    "    }\n",
    "}\n",
    "\"\"\"\n",
    "\n",
    "res2 = g.query(q2)\n",
    "\n",
    "for row in res2:\n",
    "    print(f\"Item: {row.item}, Label: {row.itemLabel}\")"
   ]
  },
  {
   "cell_type": "markdown",
   "metadata": {},
   "source": [
    "### Consulta 3\n",
    "\n",
    "Consulta que trae las laptops de WikiData."
   ]
  },
  {
   "cell_type": "code",
   "execution_count": 7,
   "metadata": {},
   "outputs": [
    {
     "name": "stdout",
     "output_type": "stream",
     "text": [
      "Item: http://www.wikidata.org/entity/Q42530222, Label: Google Pixelbook, CPU: Intel Core i7, Manufacturer: Google\n",
      "Item: http://www.wikidata.org/entity/Q42530222, Label: Google Pixelbook, CPU: Intel Core i7, Manufacturer: Google\n",
      "Item: http://www.wikidata.org/entity/Q42530222, Label: Google Pixelbook, CPU: Intel Core i5, Manufacturer: Google\n",
      "Item: http://www.wikidata.org/entity/Q42530222, Label: Google Pixelbook, CPU: Intel Core i5, Manufacturer: Google\n",
      "Item: http://www.wikidata.org/entity/Q78982844, Label: MacBook Pro 16-inch, CPU: Intel Core i7, Manufacturer: Apple Inc.\n",
      "Item: http://www.wikidata.org/entity/Q78982844, Label: MacBook Pro 16-inch, CPU: Intel Core i7, Manufacturer: Apple Inc.\n",
      "Item: http://www.wikidata.org/entity/Q78982844, Label: MacBook Pro 16-inch, CPU: Intel Core i7, Manufacturer: Apple Inc.\n",
      "Item: http://www.wikidata.org/entity/Q78982844, Label: MacBook Pro 16-inch, CPU: Intel Core i9, Manufacturer: Apple Inc.\n",
      "Item: http://www.wikidata.org/entity/Q78982844, Label: MacBook Pro 16-inch, CPU: Intel Core i9, Manufacturer: Apple Inc.\n",
      "Item: http://www.wikidata.org/entity/Q78982844, Label: MacBook Pro 16-inch, CPU: Intel Core i9, Manufacturer: Apple Inc.\n",
      "Item: http://www.wikidata.org/entity/Q78982844, Label: MacBook Pro 16-inch, CPU: Gulftown, Manufacturer: Apple Inc.\n",
      "Item: http://www.wikidata.org/entity/Q78982844, Label: MacBook Pro 16-inch, CPU: Gulftown, Manufacturer: Apple Inc.\n",
      "Item: http://www.wikidata.org/entity/Q78982844, Label: MacBook Pro 16-inch, CPU: Gulftown, Manufacturer: Apple Inc.\n"
     ]
    }
   ],
   "source": [
    "q3 = \"\"\"\n",
    "SELECT ?laptop ?laptopLabel ?manufacturerLabel ?cpuLabel ?ram\n",
    "{\n",
    "    SERVICE <https://query.wikidata.org/sparql> {\n",
    "        ?laptop wdt:P31 wd:Q3962.\n",
    "        ?laptop wdt:P176 ?manufacturer.\n",
    "        ?laptop wdt:P880 ?cpu.\n",
    "        ?laptop wdt:P2928 ?ram.\n",
    "        ?laptop rdfs:label ?laptopLabel.\n",
    "        ?manufacturer rdfs:label ?manufacturerLabel.\n",
    "        ?cpu rdfs:label ?cpuLabel.\n",
    "        FILTER(LANG(?laptopLabel) = 'en' && LANG(?cpuLabel) = 'en' && LANG(?manufacturerLabel) = 'en')\n",
    "    }\n",
    "}\n",
    "\"\"\"\n",
    "\n",
    "res3 = g.query(q3)\n",
    "\n",
    "for row in res3:\n",
    "    print(f\"Item: {row.laptop}, Label: {row.laptopLabel}, CPU: {row.cpuLabel}, Manufacturer: {row.manufacturerLabel}\")"
   ]
  },
  {
   "cell_type": "markdown",
   "metadata": {},
   "source": [
    "### Consulta 4\n",
    "\n",
    "Consulta a DBPedia Laptops."
   ]
  },
  {
   "cell_type": "code",
   "execution_count": 8,
   "metadata": {},
   "outputs": [
    {
     "name": "stdout",
     "output_type": "stream",
     "text": [
      "Laptop: Samsung Sens, CPU: List of Intel Core i5 processors, RAM: None, Storage: None\n",
      "Laptop: Samsung Sens, CPU: Intel Core, RAM: None, Storage: None\n",
      "Laptop: Samsung Sens, CPU: List of Intel Core i7 processors, RAM: None, Storage: None\n",
      "Laptop: Samsung Sens, CPU: Intel Core, RAM: None, Storage: M.2 SATA3\n",
      "Laptop: Samsung Sens, CPU: List of Intel Core i7 processors, RAM: None, Storage: SATA\n",
      "Laptop: Samsung Sens, CPU: List of Intel Core i7 processors, RAM: None, Storage: M.2 SATA3\n",
      "Laptop: Samsung Sens, CPU: List of Intel Core i5 processors, RAM: None, Storage: SATA\n",
      "Laptop: Samsung Sens, CPU: Intel Core, RAM: None, Storage: SATA\n",
      "Laptop: Samsung Sens, CPU: List of Intel Core i5 processors, RAM: None, Storage: M.2 SATA3\n",
      "Laptop: Toshiba Satellite, CPU: Pentium, RAM: None, Storage: None\n",
      "Laptop: Toshiba Satellite, CPU: Celeron, RAM: None, Storage: None\n",
      "Laptop: Acer Aspire laptops, CPU: Celeron, RAM: None, Storage: None\n",
      "Laptop: Acer Aspire laptops, CPU: Celeron, RAM: DDR4, Storage: None\n",
      "Laptop: Acer Aspire laptops, CPU: Celeron, RAM: Up to 32 GB, Storage: None\n",
      "Laptop: Acer Aspire laptops, CPU: Pentium, RAM: None, Storage: None\n",
      "Laptop: Acer Aspire laptops, CPU: Pentium, RAM: DDR4, Storage: None\n",
      "Laptop: Acer Aspire laptops, CPU: Pentium, RAM: Up to 32 GB, Storage: None\n",
      "Laptop: Toshiba T3100, CPU: Intel 80286, RAM: None, Storage: None\n",
      "Laptop: Toshiba T3100, CPU: Intel 80286, RAM: , Storage: None\n",
      "Laptop: Bondwell-2, CPU: Zilog, RAM: None, Storage: None\n",
      "Laptop: Epson PX-8 Geneva, CPU: Zilog Z80, RAM: None, Storage: built-in microcassette drive\n",
      "Laptop: Huawei MateBook series, CPU: Intel, RAM: None, Storage: None\n",
      "Laptop: IdeaPad, CPU: List of Intel Core i5 processors, RAM: None, Storage: None\n",
      "Laptop: IdeaPad, CPU: AMD Accelerated Processing Unit, RAM: None, Storage: None\n",
      "Laptop: IdeaPad, CPU: List of Intel Core i3 processors, RAM: None, Storage: None\n",
      "Laptop: IdeaPad, CPU: Ryzen, RAM: None, Storage: None\n",
      "Laptop: IdeaPad, CPU: List of Intel Core i7 processors, RAM: None, Storage: None\n",
      "Laptop: HP Pavilion, CPU: List of Intel Core i3 processors, RAM: None, Storage: None\n",
      "Laptop: HP Pavilion, CPU: Celeron, RAM: None, Storage: None\n",
      "Laptop: HP Pavilion, CPU: List of Intel Core i7 processors, RAM: None, Storage: None\n",
      "Laptop: HP Pavilion, CPU: AMD Accelerated Processing Unit, RAM: None, Storage: None\n",
      "Laptop: HP Pavilion, CPU: Pentium, RAM: None, Storage: None\n",
      "Laptop: HP Pavilion, CPU: List of Intel Core i5 processors, RAM: None, Storage: None\n",
      "Laptop: Compaq Presario R3000, CPU: Pentium 4, RAM: None, Storage: None\n",
      "Laptop: Compaq Presario R3000, CPU: Athlon, RAM: None, Storage: None\n",
      "Laptop: Compaq Presario R3000, CPU: Celeron, RAM: None, Storage: None\n",
      "Laptop: Surface Laptop, CPU: Kaby Lake, RAM: None, Storage: None\n",
      "Laptop: Surface Laptop 2, CPU: List of Intel Core i7 processors, RAM: None, Storage: None\n",
      "Laptop: Surface Laptop 2, CPU: List of Intel Core i5 processors, RAM: None, Storage: None\n",
      "Laptop: Surface Laptop 3, CPU: List of Intel Core i5 processors, RAM: None, Storage: None\n",
      "Laptop: Surface Laptop 3, CPU: List of Intel Core i7 processors, RAM: None, Storage: None\n",
      "Laptop: Surface Laptop 3, CPU: Ryzen, RAM: None, Storage: None\n",
      "Laptop: Surface Laptop 4, CPU: List of Intel Core i5 processors, RAM: None, Storage: None\n",
      "Laptop: Surface Laptop 4, CPU: List of Intel Core i7 processors, RAM: None, Storage: None\n",
      "Laptop: Surface Laptop 4, CPU: Ryzen, RAM: None, Storage: None\n",
      "Laptop: Surface Laptop Go, CPU: List of Intel Core i5 processors, RAM: None, Storage: SSD: 128 GB, 256 GB\n",
      "Laptop: Surface Laptop Go, CPU: List of Intel Core i5 processors, RAM: None, Storage: eMMC: 64 GB\n"
     ]
    }
   ],
   "source": [
    "q4 = \"\"\"\n",
    "SELECT DISTINCT ?computer ?label ?cpu ?cpuLabel ?memoryRam ?storage\n",
    "{\n",
    "    SERVICE <https://dbpedia.org/sparql> {\n",
    "        ?computer dbo:type dbr:Laptop.\n",
    "        ?computer rdfs:label ?label.\n",
    "        ?computer dbo:cpu ?cpu.\n",
    "        ?cpu rdfs:label ?cpuLabel.\n",
    "        ?computer dbp:storage ?storage.\n",
    "        OPTIONAL {\n",
    "            ?computer dbp:memory ?memoryRam\n",
    "        }\n",
    "        FILTER(LANG(?label) = 'en' && LANG(?cpuLabel) = 'en')\n",
    "    }\n",
    "} LIMIT 50\n",
    "\"\"\"\n",
    "\n",
    "res4 = g.query(q4)\n",
    "\n",
    "for row in res4:\n",
    "    print(f\"Laptop: {row.label}, CPU: {row.cpuLabel}, RAM: {row.memoryRam}, Storage: {row.storage}\")"
   ]
  },
  {
   "cell_type": "markdown",
   "metadata": {},
   "source": [
    "## Punto 3\n",
    "\n",
    "Haciendo uso de las librerías SPARQLWrapper y rdflib implementar 2 consultas de actualización a la base de datos implementada en virtuoso con datos provenientes de DBPedia y\n",
    "Wikidata. Aquí se debe hacer una consulta sparql a Dbpedia y otra a Wikidata e insertar para cada una la información a su base de conocimiento en Virtuoso (valor 1.0)"
   ]
  },
  {
   "cell_type": "code",
   "execution_count": 9,
   "metadata": {},
   "outputs": [],
   "source": [
    "from SPARQLWrapper import SPARQLWrapper, JSON, POST, DIGEST\n",
    "\n",
    "sparql = SPARQLWrapper('http://localhost:8890/sparql-auth')\n",
    "sparql.setReturnFormat(JSON)\n",
    "sparql.setHTTPAuth(DIGEST)\n",
    "sparql.setCredentials(\"dba\", \"password\")\n",
    "sparql.setMethod(POST)"
   ]
  },
  {
   "cell_type": "markdown",
   "metadata": {},
   "source": [
    "### Consulta 1\n",
    "\n",
    "Añadimos al grafo las GPUs traídas de WikiData."
   ]
  },
  {
   "cell_type": "code",
   "execution_count": 29,
   "metadata": {},
   "outputs": [],
   "source": [
    "import urllib.parse\n",
    "\n",
    "def insertCPU(item: str, value):\n",
    "  safeItem = urllib.parse.quote_plus(item.replace(\" \", \"\").replace(\"+\", \"\"))\n",
    "\n",
    "  query = f\"\"\"\n",
    "    PREFIX pc: <{n}>\n",
    "    PREFIX wdt: <http://www.wikidata.org/prop/direct/>\n",
    "    PREFIX wd: <http://www.wikidata.org/entity/>\n",
    "    PREFIX wikibase: <http://wikiba.se/ontology#>\n",
    "    PREFIX bd: <http://www.bigdata.com/rdf#>\n",
    "\n",
    "    INSERT DATA {{\n",
    "      GRAPH <{n}> {{\n",
    "        pc:{safeItem} rdf:type pc:CPU.\n",
    "        pc:{safeItem} pc:Has_Integrated_Graphics {value}\n",
    "      }}\n",
    "    }}\n",
    "  \"\"\"\n",
    "\n",
    "  sparql.setQuery(query)\n",
    "  sparql.query().convert()"
   ]
  },
  {
   "cell_type": "code",
   "execution_count": 38,
   "metadata": {},
   "outputs": [
    {
     "name": "stdout",
     "output_type": "stream",
     "text": [
      "Inserting the following data:\n",
      "CPU: Qualcomm Snapdragon 860, Has_GPU: True\n"
     ]
    },
    {
     "ename": "QueryBadFormed",
     "evalue": "QueryBadFormed: a bad request has been sent to the endpoint, probably the sparql query is bad formed. \n\nResponse:\nb\"Virtuoso 37000 Error SP030: SPARQL compiler, line 15: syntax error at '+' before 'Snapdragon'\\n\\nSPARQL query:\\ndefine sql:big-data-const 0\\n\\n    PREFIX pc: <http://www.computerqualification.com/>\\n    PREFIX wdt: <http://www.wikidata.org/prop/direct/>\\n    PREFIX wd: <http://www.wikidata.org/entity/>\\n    PREFIX wikibase: <http://wikiba.se/ontology#>\\n    PREFIX bd: <http://www.bigdata.com/rdf#>\\n    PREFIX dbr: <http://dbpedia.org/resource/>\\n    PREFIX dbo: <http://dbpedia.org/ontology/>\\n    PREFIX dbp: <http://dbpedia.org/property/>\\n    PREFIX dbd: <http://dbpedia.org/datatype/>\\n\\n    INSERT DATA {\\n      GRAPH <http://www.computerqualification.com/> {\\n        pc:Qualcomm+Snapdragon+860 rdf:type pc:CPU.\\n        pc:Qualcomm+Snapdragon+860 pc:Has_Integrated_Graphics True\\n      }\\n    }\\n  \"",
     "output_type": "error",
     "traceback": [
      "\u001b[1;31m---------------------------------------------------------------------------\u001b[0m",
      "\u001b[1;31mHTTPError\u001b[0m                                 Traceback (most recent call last)",
      "\u001b[1;32mC:\\Python39\\lib\\site-packages\\SPARQLWrapper\\Wrapper.py\u001b[0m in \u001b[0;36m_query\u001b[1;34m(self)\u001b[0m\n\u001b[0;32m   1072\u001b[0m             \u001b[1;32melse\u001b[0m\u001b[1;33m:\u001b[0m\u001b[1;33m\u001b[0m\u001b[1;33m\u001b[0m\u001b[0m\n\u001b[1;32m-> 1073\u001b[1;33m                 \u001b[0mresponse\u001b[0m \u001b[1;33m=\u001b[0m \u001b[0murlopener\u001b[0m\u001b[1;33m(\u001b[0m\u001b[0mrequest\u001b[0m\u001b[1;33m)\u001b[0m\u001b[1;33m\u001b[0m\u001b[1;33m\u001b[0m\u001b[0m\n\u001b[0m\u001b[0;32m   1074\u001b[0m             \u001b[1;32mreturn\u001b[0m \u001b[0mresponse\u001b[0m\u001b[1;33m,\u001b[0m \u001b[0mself\u001b[0m\u001b[1;33m.\u001b[0m\u001b[0mreturnFormat\u001b[0m\u001b[1;33m\u001b[0m\u001b[1;33m\u001b[0m\u001b[0m\n",
      "\u001b[1;32mC:\\Python39\\lib\\urllib\\request.py\u001b[0m in \u001b[0;36murlopen\u001b[1;34m(url, data, timeout, cafile, capath, cadefault, context)\u001b[0m\n\u001b[0;32m    213\u001b[0m         \u001b[0mopener\u001b[0m \u001b[1;33m=\u001b[0m \u001b[0m_opener\u001b[0m\u001b[1;33m\u001b[0m\u001b[1;33m\u001b[0m\u001b[0m\n\u001b[1;32m--> 214\u001b[1;33m     \u001b[1;32mreturn\u001b[0m \u001b[0mopener\u001b[0m\u001b[1;33m.\u001b[0m\u001b[0mopen\u001b[0m\u001b[1;33m(\u001b[0m\u001b[0murl\u001b[0m\u001b[1;33m,\u001b[0m \u001b[0mdata\u001b[0m\u001b[1;33m,\u001b[0m \u001b[0mtimeout\u001b[0m\u001b[1;33m)\u001b[0m\u001b[1;33m\u001b[0m\u001b[1;33m\u001b[0m\u001b[0m\n\u001b[0m\u001b[0;32m    215\u001b[0m \u001b[1;33m\u001b[0m\u001b[0m\n",
      "\u001b[1;32mC:\\Python39\\lib\\urllib\\request.py\u001b[0m in \u001b[0;36mopen\u001b[1;34m(self, fullurl, data, timeout)\u001b[0m\n\u001b[0;32m    522\u001b[0m             \u001b[0mmeth\u001b[0m \u001b[1;33m=\u001b[0m \u001b[0mgetattr\u001b[0m\u001b[1;33m(\u001b[0m\u001b[0mprocessor\u001b[0m\u001b[1;33m,\u001b[0m \u001b[0mmeth_name\u001b[0m\u001b[1;33m)\u001b[0m\u001b[1;33m\u001b[0m\u001b[1;33m\u001b[0m\u001b[0m\n\u001b[1;32m--> 523\u001b[1;33m             \u001b[0mresponse\u001b[0m \u001b[1;33m=\u001b[0m \u001b[0mmeth\u001b[0m\u001b[1;33m(\u001b[0m\u001b[0mreq\u001b[0m\u001b[1;33m,\u001b[0m \u001b[0mresponse\u001b[0m\u001b[1;33m)\u001b[0m\u001b[1;33m\u001b[0m\u001b[1;33m\u001b[0m\u001b[0m\n\u001b[0m\u001b[0;32m    524\u001b[0m \u001b[1;33m\u001b[0m\u001b[0m\n",
      "\u001b[1;32mC:\\Python39\\lib\\urllib\\request.py\u001b[0m in \u001b[0;36mhttp_response\u001b[1;34m(self, request, response)\u001b[0m\n\u001b[0;32m    631\u001b[0m         \u001b[1;32mif\u001b[0m \u001b[1;32mnot\u001b[0m \u001b[1;33m(\u001b[0m\u001b[1;36m200\u001b[0m \u001b[1;33m<=\u001b[0m \u001b[0mcode\u001b[0m \u001b[1;33m<\u001b[0m \u001b[1;36m300\u001b[0m\u001b[1;33m)\u001b[0m\u001b[1;33m:\u001b[0m\u001b[1;33m\u001b[0m\u001b[1;33m\u001b[0m\u001b[0m\n\u001b[1;32m--> 632\u001b[1;33m             response = self.parent.error(\n\u001b[0m\u001b[0;32m    633\u001b[0m                 'http', request, response, code, msg, hdrs)\n",
      "\u001b[1;32mC:\\Python39\\lib\\urllib\\request.py\u001b[0m in \u001b[0;36merror\u001b[1;34m(self, proto, *args)\u001b[0m\n\u001b[0;32m    554\u001b[0m         \u001b[0margs\u001b[0m \u001b[1;33m=\u001b[0m \u001b[1;33m(\u001b[0m\u001b[0mdict\u001b[0m\u001b[1;33m,\u001b[0m \u001b[0mproto\u001b[0m\u001b[1;33m,\u001b[0m \u001b[0mmeth_name\u001b[0m\u001b[1;33m)\u001b[0m \u001b[1;33m+\u001b[0m \u001b[0margs\u001b[0m\u001b[1;33m\u001b[0m\u001b[1;33m\u001b[0m\u001b[0m\n\u001b[1;32m--> 555\u001b[1;33m         \u001b[0mresult\u001b[0m \u001b[1;33m=\u001b[0m \u001b[0mself\u001b[0m\u001b[1;33m.\u001b[0m\u001b[0m_call_chain\u001b[0m\u001b[1;33m(\u001b[0m\u001b[1;33m*\u001b[0m\u001b[0margs\u001b[0m\u001b[1;33m)\u001b[0m\u001b[1;33m\u001b[0m\u001b[1;33m\u001b[0m\u001b[0m\n\u001b[0m\u001b[0;32m    556\u001b[0m         \u001b[1;32mif\u001b[0m \u001b[0mresult\u001b[0m\u001b[1;33m:\u001b[0m\u001b[1;33m\u001b[0m\u001b[1;33m\u001b[0m\u001b[0m\n",
      "\u001b[1;32mC:\\Python39\\lib\\urllib\\request.py\u001b[0m in \u001b[0;36m_call_chain\u001b[1;34m(self, chain, kind, meth_name, *args)\u001b[0m\n\u001b[0;32m    493\u001b[0m             \u001b[0mfunc\u001b[0m \u001b[1;33m=\u001b[0m \u001b[0mgetattr\u001b[0m\u001b[1;33m(\u001b[0m\u001b[0mhandler\u001b[0m\u001b[1;33m,\u001b[0m \u001b[0mmeth_name\u001b[0m\u001b[1;33m)\u001b[0m\u001b[1;33m\u001b[0m\u001b[1;33m\u001b[0m\u001b[0m\n\u001b[1;32m--> 494\u001b[1;33m             \u001b[0mresult\u001b[0m \u001b[1;33m=\u001b[0m \u001b[0mfunc\u001b[0m\u001b[1;33m(\u001b[0m\u001b[1;33m*\u001b[0m\u001b[0margs\u001b[0m\u001b[1;33m)\u001b[0m\u001b[1;33m\u001b[0m\u001b[1;33m\u001b[0m\u001b[0m\n\u001b[0m\u001b[0;32m    495\u001b[0m             \u001b[1;32mif\u001b[0m \u001b[0mresult\u001b[0m \u001b[1;32mis\u001b[0m \u001b[1;32mnot\u001b[0m \u001b[1;32mNone\u001b[0m\u001b[1;33m:\u001b[0m\u001b[1;33m\u001b[0m\u001b[1;33m\u001b[0m\u001b[0m\n",
      "\u001b[1;32mC:\\Python39\\lib\\urllib\\request.py\u001b[0m in \u001b[0;36mhttp_error_401\u001b[1;34m(self, req, fp, code, msg, headers)\u001b[0m\n\u001b[0;32m   1235\u001b[0m         \u001b[0mhost\u001b[0m \u001b[1;33m=\u001b[0m \u001b[0murlparse\u001b[0m\u001b[1;33m(\u001b[0m\u001b[0mreq\u001b[0m\u001b[1;33m.\u001b[0m\u001b[0mfull_url\u001b[0m\u001b[1;33m)\u001b[0m\u001b[1;33m[\u001b[0m\u001b[1;36m1\u001b[0m\u001b[1;33m]\u001b[0m\u001b[1;33m\u001b[0m\u001b[1;33m\u001b[0m\u001b[0m\n\u001b[1;32m-> 1236\u001b[1;33m         retry = self.http_error_auth_reqed('www-authenticate',\n\u001b[0m\u001b[0;32m   1237\u001b[0m                                            host, req, headers)\n",
      "\u001b[1;32mC:\\Python39\\lib\\urllib\\request.py\u001b[0m in \u001b[0;36mhttp_error_auth_reqed\u001b[1;34m(self, auth_header, host, req, headers)\u001b[0m\n\u001b[0;32m   1115\u001b[0m             \u001b[1;32mif\u001b[0m \u001b[0mscheme\u001b[0m\u001b[1;33m.\u001b[0m\u001b[0mlower\u001b[0m\u001b[1;33m(\u001b[0m\u001b[1;33m)\u001b[0m \u001b[1;33m==\u001b[0m \u001b[1;34m'digest'\u001b[0m\u001b[1;33m:\u001b[0m\u001b[1;33m\u001b[0m\u001b[1;33m\u001b[0m\u001b[0m\n\u001b[1;32m-> 1116\u001b[1;33m                 \u001b[1;32mreturn\u001b[0m \u001b[0mself\u001b[0m\u001b[1;33m.\u001b[0m\u001b[0mretry_http_digest_auth\u001b[0m\u001b[1;33m(\u001b[0m\u001b[0mreq\u001b[0m\u001b[1;33m,\u001b[0m \u001b[0mauthreq\u001b[0m\u001b[1;33m)\u001b[0m\u001b[1;33m\u001b[0m\u001b[1;33m\u001b[0m\u001b[0m\n\u001b[0m\u001b[0;32m   1117\u001b[0m             \u001b[1;32melif\u001b[0m \u001b[0mscheme\u001b[0m\u001b[1;33m.\u001b[0m\u001b[0mlower\u001b[0m\u001b[1;33m(\u001b[0m\u001b[1;33m)\u001b[0m \u001b[1;33m!=\u001b[0m \u001b[1;34m'basic'\u001b[0m\u001b[1;33m:\u001b[0m\u001b[1;33m\u001b[0m\u001b[1;33m\u001b[0m\u001b[0m\n",
      "\u001b[1;32mC:\\Python39\\lib\\urllib\\request.py\u001b[0m in \u001b[0;36mretry_http_digest_auth\u001b[1;34m(self, req, auth)\u001b[0m\n\u001b[0;32m   1129\u001b[0m             \u001b[0mreq\u001b[0m\u001b[1;33m.\u001b[0m\u001b[0madd_unredirected_header\u001b[0m\u001b[1;33m(\u001b[0m\u001b[0mself\u001b[0m\u001b[1;33m.\u001b[0m\u001b[0mauth_header\u001b[0m\u001b[1;33m,\u001b[0m \u001b[0mauth_val\u001b[0m\u001b[1;33m)\u001b[0m\u001b[1;33m\u001b[0m\u001b[1;33m\u001b[0m\u001b[0m\n\u001b[1;32m-> 1130\u001b[1;33m             \u001b[0mresp\u001b[0m \u001b[1;33m=\u001b[0m \u001b[0mself\u001b[0m\u001b[1;33m.\u001b[0m\u001b[0mparent\u001b[0m\u001b[1;33m.\u001b[0m\u001b[0mopen\u001b[0m\u001b[1;33m(\u001b[0m\u001b[0mreq\u001b[0m\u001b[1;33m,\u001b[0m \u001b[0mtimeout\u001b[0m\u001b[1;33m=\u001b[0m\u001b[0mreq\u001b[0m\u001b[1;33m.\u001b[0m\u001b[0mtimeout\u001b[0m\u001b[1;33m)\u001b[0m\u001b[1;33m\u001b[0m\u001b[1;33m\u001b[0m\u001b[0m\n\u001b[0m\u001b[0;32m   1131\u001b[0m             \u001b[1;32mreturn\u001b[0m \u001b[0mresp\u001b[0m\u001b[1;33m\u001b[0m\u001b[1;33m\u001b[0m\u001b[0m\n",
      "\u001b[1;32mC:\\Python39\\lib\\urllib\\request.py\u001b[0m in \u001b[0;36mopen\u001b[1;34m(self, fullurl, data, timeout)\u001b[0m\n\u001b[0;32m    522\u001b[0m             \u001b[0mmeth\u001b[0m \u001b[1;33m=\u001b[0m \u001b[0mgetattr\u001b[0m\u001b[1;33m(\u001b[0m\u001b[0mprocessor\u001b[0m\u001b[1;33m,\u001b[0m \u001b[0mmeth_name\u001b[0m\u001b[1;33m)\u001b[0m\u001b[1;33m\u001b[0m\u001b[1;33m\u001b[0m\u001b[0m\n\u001b[1;32m--> 523\u001b[1;33m             \u001b[0mresponse\u001b[0m \u001b[1;33m=\u001b[0m \u001b[0mmeth\u001b[0m\u001b[1;33m(\u001b[0m\u001b[0mreq\u001b[0m\u001b[1;33m,\u001b[0m \u001b[0mresponse\u001b[0m\u001b[1;33m)\u001b[0m\u001b[1;33m\u001b[0m\u001b[1;33m\u001b[0m\u001b[0m\n\u001b[0m\u001b[0;32m    524\u001b[0m \u001b[1;33m\u001b[0m\u001b[0m\n",
      "\u001b[1;32mC:\\Python39\\lib\\urllib\\request.py\u001b[0m in \u001b[0;36mhttp_response\u001b[1;34m(self, request, response)\u001b[0m\n\u001b[0;32m    631\u001b[0m         \u001b[1;32mif\u001b[0m \u001b[1;32mnot\u001b[0m \u001b[1;33m(\u001b[0m\u001b[1;36m200\u001b[0m \u001b[1;33m<=\u001b[0m \u001b[0mcode\u001b[0m \u001b[1;33m<\u001b[0m \u001b[1;36m300\u001b[0m\u001b[1;33m)\u001b[0m\u001b[1;33m:\u001b[0m\u001b[1;33m\u001b[0m\u001b[1;33m\u001b[0m\u001b[0m\n\u001b[1;32m--> 632\u001b[1;33m             response = self.parent.error(\n\u001b[0m\u001b[0;32m    633\u001b[0m                 'http', request, response, code, msg, hdrs)\n",
      "\u001b[1;32mC:\\Python39\\lib\\urllib\\request.py\u001b[0m in \u001b[0;36merror\u001b[1;34m(self, proto, *args)\u001b[0m\n\u001b[0;32m    560\u001b[0m             \u001b[0margs\u001b[0m \u001b[1;33m=\u001b[0m \u001b[1;33m(\u001b[0m\u001b[0mdict\u001b[0m\u001b[1;33m,\u001b[0m \u001b[1;34m'default'\u001b[0m\u001b[1;33m,\u001b[0m \u001b[1;34m'http_error_default'\u001b[0m\u001b[1;33m)\u001b[0m \u001b[1;33m+\u001b[0m \u001b[0morig_args\u001b[0m\u001b[1;33m\u001b[0m\u001b[1;33m\u001b[0m\u001b[0m\n\u001b[1;32m--> 561\u001b[1;33m             \u001b[1;32mreturn\u001b[0m \u001b[0mself\u001b[0m\u001b[1;33m.\u001b[0m\u001b[0m_call_chain\u001b[0m\u001b[1;33m(\u001b[0m\u001b[1;33m*\u001b[0m\u001b[0margs\u001b[0m\u001b[1;33m)\u001b[0m\u001b[1;33m\u001b[0m\u001b[1;33m\u001b[0m\u001b[0m\n\u001b[0m\u001b[0;32m    562\u001b[0m \u001b[1;33m\u001b[0m\u001b[0m\n",
      "\u001b[1;32mC:\\Python39\\lib\\urllib\\request.py\u001b[0m in \u001b[0;36m_call_chain\u001b[1;34m(self, chain, kind, meth_name, *args)\u001b[0m\n\u001b[0;32m    493\u001b[0m             \u001b[0mfunc\u001b[0m \u001b[1;33m=\u001b[0m \u001b[0mgetattr\u001b[0m\u001b[1;33m(\u001b[0m\u001b[0mhandler\u001b[0m\u001b[1;33m,\u001b[0m \u001b[0mmeth_name\u001b[0m\u001b[1;33m)\u001b[0m\u001b[1;33m\u001b[0m\u001b[1;33m\u001b[0m\u001b[0m\n\u001b[1;32m--> 494\u001b[1;33m             \u001b[0mresult\u001b[0m \u001b[1;33m=\u001b[0m \u001b[0mfunc\u001b[0m\u001b[1;33m(\u001b[0m\u001b[1;33m*\u001b[0m\u001b[0margs\u001b[0m\u001b[1;33m)\u001b[0m\u001b[1;33m\u001b[0m\u001b[1;33m\u001b[0m\u001b[0m\n\u001b[0m\u001b[0;32m    495\u001b[0m             \u001b[1;32mif\u001b[0m \u001b[0mresult\u001b[0m \u001b[1;32mis\u001b[0m \u001b[1;32mnot\u001b[0m \u001b[1;32mNone\u001b[0m\u001b[1;33m:\u001b[0m\u001b[1;33m\u001b[0m\u001b[1;33m\u001b[0m\u001b[0m\n",
      "\u001b[1;32mC:\\Python39\\lib\\urllib\\request.py\u001b[0m in \u001b[0;36mhttp_error_default\u001b[1;34m(self, req, fp, code, msg, hdrs)\u001b[0m\n\u001b[0;32m    640\u001b[0m     \u001b[1;32mdef\u001b[0m \u001b[0mhttp_error_default\u001b[0m\u001b[1;33m(\u001b[0m\u001b[0mself\u001b[0m\u001b[1;33m,\u001b[0m \u001b[0mreq\u001b[0m\u001b[1;33m,\u001b[0m \u001b[0mfp\u001b[0m\u001b[1;33m,\u001b[0m \u001b[0mcode\u001b[0m\u001b[1;33m,\u001b[0m \u001b[0mmsg\u001b[0m\u001b[1;33m,\u001b[0m \u001b[0mhdrs\u001b[0m\u001b[1;33m)\u001b[0m\u001b[1;33m:\u001b[0m\u001b[1;33m\u001b[0m\u001b[1;33m\u001b[0m\u001b[0m\n\u001b[1;32m--> 641\u001b[1;33m         \u001b[1;32mraise\u001b[0m \u001b[0mHTTPError\u001b[0m\u001b[1;33m(\u001b[0m\u001b[0mreq\u001b[0m\u001b[1;33m.\u001b[0m\u001b[0mfull_url\u001b[0m\u001b[1;33m,\u001b[0m \u001b[0mcode\u001b[0m\u001b[1;33m,\u001b[0m \u001b[0mmsg\u001b[0m\u001b[1;33m,\u001b[0m \u001b[0mhdrs\u001b[0m\u001b[1;33m,\u001b[0m \u001b[0mfp\u001b[0m\u001b[1;33m)\u001b[0m\u001b[1;33m\u001b[0m\u001b[1;33m\u001b[0m\u001b[0m\n\u001b[0m\u001b[0;32m    642\u001b[0m \u001b[1;33m\u001b[0m\u001b[0m\n",
      "\u001b[1;31mHTTPError\u001b[0m: HTTP Error 400: Bad Request",
      "\nDuring handling of the above exception, another exception occurred:\n",
      "\u001b[1;31mQueryBadFormed\u001b[0m                            Traceback (most recent call last)",
      "\u001b[1;32m~\\AppData\\Local\\Temp/ipykernel_3076/2486430545.py\u001b[0m in \u001b[0;36m<module>\u001b[1;34m\u001b[0m\n\u001b[0;32m     16\u001b[0m   \u001b[0mprint\u001b[0m\u001b[1;33m(\u001b[0m\u001b[1;34m\"Inserting the following data:\"\u001b[0m\u001b[1;33m)\u001b[0m\u001b[1;33m\u001b[0m\u001b[1;33m\u001b[0m\u001b[0m\n\u001b[0;32m     17\u001b[0m   \u001b[0mprint\u001b[0m\u001b[1;33m(\u001b[0m\u001b[1;34mf\"CPU: {row.itemLabel}, Has_GPU: {bool(row.gpu)}\"\u001b[0m\u001b[1;33m)\u001b[0m\u001b[1;33m\u001b[0m\u001b[1;33m\u001b[0m\u001b[0m\n\u001b[1;32m---> 18\u001b[1;33m   \u001b[0minsertCPU\u001b[0m\u001b[1;33m(\u001b[0m\u001b[0mrow\u001b[0m\u001b[1;33m.\u001b[0m\u001b[0mitemLabel\u001b[0m\u001b[1;33m,\u001b[0m \u001b[0mbool\u001b[0m\u001b[1;33m(\u001b[0m\u001b[0mrow\u001b[0m\u001b[1;33m.\u001b[0m\u001b[0mgpu\u001b[0m\u001b[1;33m)\u001b[0m\u001b[1;33m)\u001b[0m\u001b[1;33m\u001b[0m\u001b[1;33m\u001b[0m\u001b[0m\n\u001b[0m",
      "\u001b[1;32m~\\AppData\\Local\\Temp/ipykernel_3076/2348250777.py\u001b[0m in \u001b[0;36minsertCPU\u001b[1;34m(item, value)\u001b[0m\n\u001b[0;32m     24\u001b[0m \u001b[1;33m\u001b[0m\u001b[0m\n\u001b[0;32m     25\u001b[0m   \u001b[0msparql\u001b[0m\u001b[1;33m.\u001b[0m\u001b[0msetQuery\u001b[0m\u001b[1;33m(\u001b[0m\u001b[0mquery\u001b[0m\u001b[1;33m)\u001b[0m\u001b[1;33m\u001b[0m\u001b[1;33m\u001b[0m\u001b[0m\n\u001b[1;32m---> 26\u001b[1;33m   \u001b[0mres\u001b[0m \u001b[1;33m=\u001b[0m \u001b[0msparql\u001b[0m\u001b[1;33m.\u001b[0m\u001b[0mquery\u001b[0m\u001b[1;33m(\u001b[0m\u001b[1;33m)\u001b[0m\u001b[1;33m.\u001b[0m\u001b[0mconvert\u001b[0m\u001b[1;33m(\u001b[0m\u001b[1;33m)\u001b[0m\u001b[1;33m\u001b[0m\u001b[1;33m\u001b[0m\u001b[0m\n\u001b[0m",
      "\u001b[1;32mC:\\Python39\\lib\\site-packages\\SPARQLWrapper\\Wrapper.py\u001b[0m in \u001b[0;36mquery\u001b[1;34m(self)\u001b[0m\n\u001b[0;32m   1105\u001b[0m             \u001b[1;33m:\u001b[0m\u001b[0mrtype\u001b[0m\u001b[1;33m:\u001b[0m \u001b[1;33m:\u001b[0m\u001b[1;32mclass\u001b[0m\u001b[1;33m:\u001b[0m\u001b[0;31m`\u001b[0m\u001b[0mQueryResult\u001b[0m\u001b[0;31m`\u001b[0m \u001b[0minstance\u001b[0m\u001b[1;33m\u001b[0m\u001b[1;33m\u001b[0m\u001b[0m\n\u001b[0;32m   1106\u001b[0m         \"\"\"\n\u001b[1;32m-> 1107\u001b[1;33m         \u001b[1;32mreturn\u001b[0m \u001b[0mQueryResult\u001b[0m\u001b[1;33m(\u001b[0m\u001b[0mself\u001b[0m\u001b[1;33m.\u001b[0m\u001b[0m_query\u001b[0m\u001b[1;33m(\u001b[0m\u001b[1;33m)\u001b[0m\u001b[1;33m)\u001b[0m\u001b[1;33m\u001b[0m\u001b[1;33m\u001b[0m\u001b[0m\n\u001b[0m\u001b[0;32m   1108\u001b[0m \u001b[1;33m\u001b[0m\u001b[0m\n\u001b[0;32m   1109\u001b[0m     \u001b[1;32mdef\u001b[0m \u001b[0mqueryAndConvert\u001b[0m\u001b[1;33m(\u001b[0m\u001b[0mself\u001b[0m\u001b[1;33m)\u001b[0m\u001b[1;33m:\u001b[0m\u001b[1;33m\u001b[0m\u001b[1;33m\u001b[0m\u001b[0m\n",
      "\u001b[1;32mC:\\Python39\\lib\\site-packages\\SPARQLWrapper\\Wrapper.py\u001b[0m in \u001b[0;36m_query\u001b[1;34m(self)\u001b[0m\n\u001b[0;32m   1075\u001b[0m         \u001b[1;32mexcept\u001b[0m \u001b[0murllib\u001b[0m\u001b[1;33m.\u001b[0m\u001b[0merror\u001b[0m\u001b[1;33m.\u001b[0m\u001b[0mHTTPError\u001b[0m \u001b[1;32mas\u001b[0m \u001b[0me\u001b[0m\u001b[1;33m:\u001b[0m\u001b[1;33m\u001b[0m\u001b[1;33m\u001b[0m\u001b[0m\n\u001b[0;32m   1076\u001b[0m             \u001b[1;32mif\u001b[0m \u001b[0me\u001b[0m\u001b[1;33m.\u001b[0m\u001b[0mcode\u001b[0m \u001b[1;33m==\u001b[0m \u001b[1;36m400\u001b[0m\u001b[1;33m:\u001b[0m\u001b[1;33m\u001b[0m\u001b[1;33m\u001b[0m\u001b[0m\n\u001b[1;32m-> 1077\u001b[1;33m                 \u001b[1;32mraise\u001b[0m \u001b[0mQueryBadFormed\u001b[0m\u001b[1;33m(\u001b[0m\u001b[0me\u001b[0m\u001b[1;33m.\u001b[0m\u001b[0mread\u001b[0m\u001b[1;33m(\u001b[0m\u001b[1;33m)\u001b[0m\u001b[1;33m)\u001b[0m\u001b[1;33m\u001b[0m\u001b[1;33m\u001b[0m\u001b[0m\n\u001b[0m\u001b[0;32m   1078\u001b[0m             \u001b[1;32melif\u001b[0m \u001b[0me\u001b[0m\u001b[1;33m.\u001b[0m\u001b[0mcode\u001b[0m \u001b[1;33m==\u001b[0m \u001b[1;36m404\u001b[0m\u001b[1;33m:\u001b[0m\u001b[1;33m\u001b[0m\u001b[1;33m\u001b[0m\u001b[0m\n\u001b[0;32m   1079\u001b[0m                 \u001b[1;32mraise\u001b[0m \u001b[0mEndPointNotFound\u001b[0m\u001b[1;33m(\u001b[0m\u001b[0me\u001b[0m\u001b[1;33m.\u001b[0m\u001b[0mread\u001b[0m\u001b[1;33m(\u001b[0m\u001b[1;33m)\u001b[0m\u001b[1;33m)\u001b[0m\u001b[1;33m\u001b[0m\u001b[1;33m\u001b[0m\u001b[0m\n",
      "\u001b[1;31mQueryBadFormed\u001b[0m: QueryBadFormed: a bad request has been sent to the endpoint, probably the sparql query is bad formed. \n\nResponse:\nb\"Virtuoso 37000 Error SP030: SPARQL compiler, line 15: syntax error at '+' before 'Snapdragon'\\n\\nSPARQL query:\\ndefine sql:big-data-const 0\\n\\n    PREFIX pc: <http://www.computerqualification.com/>\\n    PREFIX wdt: <http://www.wikidata.org/prop/direct/>\\n    PREFIX wd: <http://www.wikidata.org/entity/>\\n    PREFIX wikibase: <http://wikiba.se/ontology#>\\n    PREFIX bd: <http://www.bigdata.com/rdf#>\\n    PREFIX dbr: <http://dbpedia.org/resource/>\\n    PREFIX dbo: <http://dbpedia.org/ontology/>\\n    PREFIX dbp: <http://dbpedia.org/property/>\\n    PREFIX dbd: <http://dbpedia.org/datatype/>\\n\\n    INSERT DATA {\\n      GRAPH <http://www.computerqualification.com/> {\\n        pc:Qualcomm+Snapdragon+860 rdf:type pc:CPU.\\n        pc:Qualcomm+Snapdragon+860 pc:Has_Integrated_Graphics True\\n      }\\n    }\\n  \""
     ]
    }
   ],
   "source": [
    "wikidataQuery = \"\"\"\n",
    "SELECT ?item ?itemLabel ?gpu\n",
    "{\n",
    "  SERVICE <https://query.wikidata.org/sparql> {\n",
    "    ?item wdt:P31 wd:Q5300.\n",
    "    ?item wdt:P2560 ?gpu.\n",
    "    ?item rdfs:label ?itemLabel.\n",
    "    FILTER(LANG(?itemLabel) = 'en')\n",
    "  }\n",
    "}\n",
    "\"\"\"\n",
    "\n",
    "res = g.query(wikidataQuery)\n",
    "\n",
    "for row in res:\n",
    "  print(\"Inserting the following data:\")\n",
    "  print(f\"CPU: {row.itemLabel}, Has_GPU: {bool(row.gpu)}\")\n",
    "  insertCPU(row.itemLabel, bool(row.gpu))"
   ]
  },
  {
   "cell_type": "markdown",
   "metadata": {},
   "source": [
    "Ahora comprobemos que sí se insertaron estos datos:"
   ]
  },
  {
   "cell_type": "code",
   "execution_count": null,
   "metadata": {},
   "outputs": [],
   "source": [
    "\"\"\"\n",
    "PREFIX pc: <http://www.computerqualification.com/>\n",
    "\n",
    "SELECT DISTINCT ?item ?hasGPU\n",
    "{\n",
    "    ?item rdf:type pc:CPU.\n",
    "    ?item pc:Has_Integrated_Graphics ?hasGPU\n",
    "}\n",
    "\"\"\""
   ]
  },
  {
   "cell_type": "markdown",
   "metadata": {},
   "source": [
    "### Consulta 2\n",
    "\n",
    "Consulta para traer las laptops con cámara de WikiData e insertarlo en Virtuoso"
   ]
  },
  {
   "cell_type": "code",
   "execution_count": 39,
   "metadata": {},
   "outputs": [],
   "source": [
    "import urllib.parse\n",
    "\n",
    "def insertCamera(item: str, value: str):\n",
    "    safeItem = urllib.parse.quote_plus(item.replace(\" \", \"\").replace(\"+\", \"\"))\n",
    "    query = f\"\"\"\n",
    "      PREFIX pc: <{n}>\n",
    "      \n",
    "      PREFIX dbr: <http://dbpedia.org/resource/>\n",
    "      PREFIX dbo: <http://dbpedia.org/ontology/>\n",
    "      PREFIX dbp: <http://dbpedia.org/property/>\n",
    "      PREFIX dbd: <http://dbpedia.org/datatype/>\n",
    "\n",
    "        INSERT DATA {{\n",
    "            GRAPH <{n}> {{\n",
    "                pc:{safeItem} rdf:type pc:computer.\n",
    "                pc:{safeItem} pc:camera \"{value}\"\n",
    "            }}\n",
    "        }}\n",
    "    \"\"\"\n",
    "\n",
    "    sparql.setQuery(query)\n",
    "    sparql.query().convert()"
   ]
  },
  {
   "cell_type": "code",
   "execution_count": 40,
   "metadata": {},
   "outputs": [
    {
     "name": "stdout",
     "output_type": "stream",
     "text": [
      "Inserting the following data:\n",
      "Laptop: Samsung Sens, camera: Yes\n",
      "Inserting the following data:\n",
      "Laptop: Toshiba Satellite, camera: Yes\n",
      "Inserting the following data:\n",
      "Laptop: Acer Aspire laptops, camera: Yes\n",
      "Inserting the following data:\n",
      "Laptop: Acer Aspire 8920, camera: None\n",
      "Inserting the following data:\n",
      "Laptop: Acer Predator, camera: Yes\n",
      "Inserting the following data:\n",
      "Laptop: Acer Predator, camera: Yes with additional cameras for tobii eye tracking\n",
      "Inserting the following data:\n",
      "Laptop: IdeaPad, camera: Camera with integrated microphone\n",
      "Inserting the following data:\n",
      "Laptop: HP Pavilion, camera: Yes\n",
      "Inserting the following data:\n",
      "Laptop: Telikin, camera: None\n",
      "Inserting the following data:\n",
      "Laptop: ThinkPad E series, camera: None\n",
      "Inserting the following data:\n",
      "Laptop: Surface Laptop, camera: None\n",
      "Inserting the following data:\n",
      "Laptop: Surface Laptop 2, camera: None\n",
      "Inserting the following data:\n",
      "Laptop: Surface Laptop 3, camera: None\n",
      "Inserting the following data:\n",
      "Laptop: Surface Laptop 4, camera: None\n",
      "Inserting the following data:\n",
      "Laptop: Surface Laptop Go, camera: None\n"
     ]
    }
   ],
   "source": [
    "dbpediaQuery = \"\"\"\n",
    "SELECT DISTINCT ?computer ?label ?camera\n",
    "{\n",
    "  SERVICE <https://dbpedia.org/sparql> {\n",
    "    ?computer dbo:type dbr:Laptop.\n",
    "    ?computer rdfs:label ?label.\n",
    "    ?computer dbp:camera ?camera\n",
    "    FILTER(LANG(?label) = 'en')\n",
    "  }\n",
    "}\n",
    "\"\"\"\n",
    "\n",
    "res = g.query(dbpediaQuery)\n",
    "\n",
    "for row in res:\n",
    "  print(\"Inserting the following data:\")\n",
    "  print(f\"Laptop: {row.label}, camera: {row.camera}\")\n",
    "  insertCamera(row.label, row.camera)"
   ]
  },
  {
   "cell_type": "code",
   "execution_count": null,
   "metadata": {},
   "outputs": [],
   "source": [
    "\"\"\"\n",
    "PREFIX pc: <http://www.computerqualification.com/>\n",
    "\n",
    "SELECT DISTINCT ?computer ?camera\n",
    "{\n",
    "    ?computer a pc:computer.\n",
    "    ?computer pc:camera ?camera\n",
    "}\n",
    "\"\"\""
   ]
  },
  {
   "cell_type": "markdown",
   "metadata": {},
   "source": [
    "## Punto 4\n",
    "\n",
    "Tomar su ontología desarrollada con sus instancias y cargarlas propiamente en el modelo de datos de rdflib e implementar 2 consultas haciendo uso de la librería rdflib, es decir, se deberá navegar por los nodos y obtener programáticamente cada consulta. (valor 1.0)"
   ]
  },
  {
   "cell_type": "code",
   "execution_count": 12,
   "metadata": {},
   "outputs": [
    {
     "name": "stdout",
     "output_type": "stream",
     "text": [
      "http://www.computerqualification.com/IntelPentium is CPU family http://www.computerqualification.com/IntelCoreI3\n"
     ]
    }
   ],
   "source": [
    "def getFamily(what: str):\n",
    "  for s, p, o in g.triples((what, n.Has_CPU_Family, None)):\n",
    "    print(f\"{s} is CPU family {o}\")\n",
    "\n",
    "getFamily(n.IntelPentium)"
   ]
  },
  {
   "cell_type": "code",
   "execution_count": 13,
   "metadata": {},
   "outputs": [
    {
     "name": "stdout",
     "output_type": "stream",
     "text": [
      "http://www.computerqualification.com/Asus_Vivobook está clasificado como http://www.computerqualification.com/Mid_Range_computer\n",
      "http://www.computerqualification.com/Asus_X515EA está clasificado como http://www.computerqualification.com/Mid_Range_computer\n",
      "http://www.computerqualification.com/Dell_Inspiron está clasificado como http://www.computerqualification.com/Mid_Range_computer\n",
      "http://www.computerqualification.com/HP_240G7 está clasificado como http://www.computerqualification.com/Mid_Range_computer\n"
     ]
    }
   ],
   "source": [
    "def getByRange(range: str): \n",
    "    for s, p, o in g.triples((None, None, range)):\n",
    "        print(f\"{s} está clasificado como {range}\")\n",
    "\n",
    "getByRange(n.Mid_Range_computer)"
   ]
  },
  {
   "cell_type": "code",
   "execution_count": 14,
   "metadata": {},
   "outputs": [
    {
     "name": "stdout",
     "output_type": "stream",
     "text": [
      "http://www.w3.org/1999/02/22-rdf-syntax-ns#type: http://www.w3.org/2002/07/owl#NamedIndividual\n",
      "http://www.w3.org/1999/02/22-rdf-syntax-ns#type: http://www.computerqualification.com/QualityCPU\n",
      "http://www.computerqualification.com/Has_Competitor: http://www.computerqualification.com/Ryzen7_4800H\n",
      "http://cookingbigdata.com/linkeddata/ccinstances#cpu_cores: 8\n",
      "http://cookingbigdata.com/linkeddata/ccinstances#cpu_frecuency: 4.3\n",
      "http://www.w3.org/2000/01/rdf-schema#label: Intel Core I7\n"
     ]
    }
   ],
   "source": [
    "def getProperties(what: str):\n",
    "    for s, p, o in g.triples((what, None, None)):\n",
    "        print(f\"{p}: {o}\")\n",
    "\n",
    "getProperties(n.IntelCoreI7)"
   ]
  }
 ],
 "metadata": {
  "interpreter": {
   "hash": "63fd5069d213b44bf678585dea6b12cceca9941eaf7f819626cde1f2670de90d"
  },
  "kernelspec": {
   "display_name": "Python 3.9.7 64-bit",
   "language": "python",
   "name": "python3"
  },
  "language_info": {
   "codemirror_mode": {
    "name": "ipython",
    "version": 3
   },
   "file_extension": ".py",
   "mimetype": "text/x-python",
   "name": "python",
   "nbconvert_exporter": "python",
   "pygments_lexer": "ipython3",
   "version": "3.9.7"
  },
  "orig_nbformat": 4
 },
 "nbformat": 4,
 "nbformat_minor": 2
}
